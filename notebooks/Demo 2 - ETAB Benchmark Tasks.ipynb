{
 "cells": [
  {
   "cell_type": "markdown",
   "id": "da85c505-42ba-4517-9cd0-d42c8f8f2046",
   "metadata": {},
   "source": [
    "<p align=\"center\">\n",
    "  <img src=\"assets/etab_logo.png\" width=\"320\">\n",
    "</p>"
   ]
  },
  {
   "cell_type": "markdown",
   "id": "d6f8f899-20e0-478b-a185-584ff0b922b2",
   "metadata": {},
   "source": [
    "# Demo 2: Running an ETAB Benchmark Experiment Out-of-the-Box"
   ]
  },
  {
   "cell_type": "markdown",
   "id": "31df1cb2-2ddb-45b6-afeb-02d2a264d6f3",
   "metadata": {},
   "source": [
    "This notebook provides a brief tutorial for running a composing models and running benchmark experiments in ETAB. We start by importing the relevant modules as follows:"
   ]
  },
  {
   "cell_type": "code",
   "execution_count": 1,
   "id": "3e7301a6-358d-4341-b4e5-9656305935dd",
   "metadata": {},
   "outputs": [
    {
     "name": "stdout",
     "output_type": "stream",
     "text": [
      "GPU(s) available:  NVIDIA A100-SXM4-40GB\n"
     ]
    }
   ],
   "source": [
    "import os\n",
    "\n",
    "current_dir = os.path.split(os.getcwd())[0]\n",
    "\n",
    "os.chdir(current_dir)\n",
    "\n",
    "from etab.baselines.models import *\n",
    "from etab.datasets import *\n",
    "from etab.utils.visualization import *\n",
    "from etab.utils.data_tools import *\n",
    "\n",
    "import warnings\n",
    "warnings.filterwarnings(\"ignore\")\n",
    "\n",
    "\n",
    "cuda_device      = 0\n",
    "device           = torch.device(\"cuda:%d\" % cuda_device if torch.cuda.is_available() else \"cpu\")"
   ]
  },
  {
   "cell_type": "markdown",
   "id": "26148b97-beb6-42dc-bfd6-8e3f7737ed6d",
   "metadata": {},
   "source": [
    "Throughout this notebook, the benchmark task we will conduct is \"a0-A4-E\" and the model will be a ResNet-50 backbone with a SegFormer head."
   ]
  },
  {
   "cell_type": "markdown",
   "id": "725392ac-359c-4916-9ee2-618e23da00a1",
   "metadata": {},
   "source": [
    "## Loading an ETAB dataset and creating train/test splits"
   ]
  },
  {
   "cell_type": "markdown",
   "id": "0a011629-1298-4a4e-9678-60f5deea7980",
   "metadata": {},
   "source": [
    "In Demo 1, we have shown how to create an ETAB dataset class and load echocardiogram data with the desired parameters. Here, we start by repeating the same steps we conducted in Demo1 to load data for task a0-A4-E in the following cells."
   ]
  },
  {
   "cell_type": "code",
   "execution_count": 2,
   "id": "2be2c6b7-c144-45b3-bf30-364663854a10",
   "metadata": {},
   "outputs": [],
   "source": [
    "echonet     = ETAB_dataset(name=\"echonet\",\n",
    "                           target=\"LV_seg\", \n",
    "                           view=\"A4\",\n",
    "                           video=False,\n",
    "                           normalize=True,\n",
    "                           frame_l=224,\n",
    "                           frame_w=224,\n",
    "                           clip_l=1)"
   ]
  },
  {
   "cell_type": "code",
   "execution_count": 3,
   "id": "bd294b46-22ec-4c19-9bb4-332d3f4ba729",
   "metadata": {},
   "outputs": [],
   "source": [
    "echonet.load_data(n_clips=7000)"
   ]
  },
  {
   "cell_type": "markdown",
   "id": "1a0dd1c5-0227-4fd8-83c1-5ff95c48ca68",
   "metadata": {},
   "source": [
    "Next, we will split the dataset saved in echonet.data into training, validation and testing samples. To do so, we first need to specify the desired batch size in order to create the data loaders"
   ]
  },
  {
   "cell_type": "code",
   "execution_count": 4,
   "id": "46035408-7291-41ed-945b-886c350997fc",
   "metadata": {},
   "outputs": [],
   "source": [
    "batch_size = 32"
   ]
  },
  {
   "cell_type": "markdown",
   "id": "fb2eb3c2-7b51-4cc9-9911-5a161585cdbb",
   "metadata": {},
   "source": [
    "To split the data, we use the *training_data_split* function and set the *return_loaders* flag to *True*. This retrieves iterables that can be used to load minibatches in model training and evaluation."
   ]
  },
  {
   "cell_type": "code",
   "execution_count": 5,
   "id": "a576718c-dde6-48f6-84bf-77a672e0cd45",
   "metadata": {},
   "outputs": [],
   "source": [
    "train_loader, valid_loader, test_loader = training_data_split(echonet.data, train_frac=0.6, val_frac=0.1, \n",
    "                                                              batch_size=batch_size, return_loaders=True)"
   ]
  },
  {
   "cell_type": "markdown",
   "id": "8ee4fb2b-4ed8-4095-acbe-55d94cbde233",
   "metadata": {},
   "source": [
    "Now let us create the model. This can be achieved by creating an instance of the *ETABmodel* class and setting the attributes to the desired values."
   ]
  },
  {
   "cell_type": "code",
   "execution_count": 6,
   "id": "13ae8322-eec9-4af3-8ce5-fa7db271d1f6",
   "metadata": {},
   "outputs": [],
   "source": [
    "model      = ETABmodel(task=\"segmentation\",\n",
    "                       backbone='ResNet-50', \n",
    "                       head=\"SegFormer\")"
   ]
  },
  {
   "cell_type": "markdown",
   "id": "0e315140-2fb3-40de-a91f-ec1edd922a8e",
   "metadata": {},
   "source": [
    "To train the model, we can invoke the *.fit* method in *ETABmodel* class after setting the training parameters as follows:"
   ]
  },
  {
   "cell_type": "code",
   "execution_count": 7,
   "id": "0a81f4fb-c639-4f1f-8ef1-02b1185f9dbd",
   "metadata": {},
   "outputs": [],
   "source": [
    "learning_rate = 0.001\n",
    "n_epoch       = 100\n",
    "ckpt_dir      = \"a0-A4-E\"  # This is the directoty in which the model callbacks are saved"
   ]
  },
  {
   "cell_type": "code",
   "execution_count": null,
   "id": "fe58d94c-642f-46a5-830c-2bb5f8c292ac",
   "metadata": {},
   "outputs": [],
   "source": [
    "model.fit(train_loader=train_loader, \n",
    "          valid_loader=valid_loader, \n",
    "          task_code=\"EA40\", \n",
    "          n_epoch=n_epoch,\n",
    "          learning_rate=learning_rate,\n",
    "          ckpt_dir=ckpt_dir,\n",
    "          device=device)"
   ]
  },
  {
   "cell_type": "markdown",
   "id": "4e838afb-70c3-4890-848b-299a7cb43a43",
   "metadata": {},
   "source": [
    "Now let us inspect the trained model's outputs for a minibatch in test data. We can do this by invoking the *.predict* method in *ETABmodel* as follows:"
   ]
  },
  {
   "cell_type": "code",
   "execution_count": 9,
   "id": "1b373ace-813d-4e4d-9c10-f1ab2356f662",
   "metadata": {},
   "outputs": [
    {
     "name": "stderr",
     "output_type": "stream",
     "text": [
      "Clipping input data to the valid range for imshow with RGB data ([0..1] for floats or [0..255] for integers).\n"
     ]
    },
    {
     "data": {
      "image/png": "[encoded data removed]",
      "text/plain": [
       "<Figure size 432x288 with 1 Axes>"
      ]
     },
     "metadata": {
      "needs_background": "light"
     },
     "output_type": "display_data"
    }
   ],
   "source": [
    "output_index          = 20\n",
    "inputs, ground_truths = next(iter(test_loader))\n",
    "preds                 = model.predict(inputs) \n",
    "\n",
    "plot_segment(inputs[output_index, :, :, :], \n",
    "             preds[output_index, :, :], \n",
    "             overlay=True, color=\"r\")"
   ]
  },
  {
   "cell_type": "markdown",
   "id": "e79adc10-0a65-4a6b-99e9-b019031fd1af",
   "metadata": {},
   "source": [
    "To evaluate the trained model, we can use the *evaluate_model* function in *etab.utils.metrics* module. This function takes the model and test loader as inputs and returns the model performance assesed using the relevant metric. In this case, the metric is the Jaccard Index."
   ]
  },
  {
   "cell_type": "code",
   "execution_count": 10,
   "id": "080f910d-82d0-4769-badf-43b1ebd68e99",
   "metadata": {},
   "outputs": [
    {
     "name": "stdout",
     "output_type": "stream",
     "text": [
      "\u001b[35mTest steps: \u001b[36m66 \u001b[32m3.99s \u001b[35mtest_loss:\u001b[94m 0.059588\u001b[35m test_acc:\u001b[94m 97.813304\u001b[35m test_fscore_macro:\u001b[94m 0.907333\u001b[35m test_jaccard_index:\u001b[94m 0.840497\u001b[0m\n"
     ]
    },
    {
     "data": {
      "text/plain": [
       "0.8404970169067383"
      ]
     },
     "execution_count": 10,
     "metadata": {},
     "output_type": "execute_result"
    }
   ],
   "source": [
    "from etab.utils.metrics import *\n",
    "\n",
    "evaluate_model(model, test_loader)"
   ]
  },
  {
   "cell_type": "markdown",
   "id": "6a62ffb4-2650-4bc0-8313-ac25ee255519",
   "metadata": {},
   "source": [
    "Now consider the scenario where we would like to freeze the backbone representation and only tune the head. How would that impact the overall performance on task \"a0-A4-E\" compared to the full finetuning process above? To implement this baseline, we create yet a new instance of *ETABmodel* followed by the *freeze_backbone* method as follows:"
   ]
  },
  {
   "cell_type": "code",
   "execution_count": 11,
   "id": "72b7db65-4944-49ee-856b-9b675950c187",
   "metadata": {},
   "outputs": [],
   "source": [
    "model      = ETABmodel(task=\"segmentation\",\n",
    "                       backbone='ResNet-50', \n",
    "                       head=\"SegFormer\")\n",
    "\n",
    "\n",
    "model.freeze_backbone()"
   ]
  },
  {
   "cell_type": "markdown",
   "id": "531f7df0-80c4-4bf0-9da7-3f9f06d60ddb",
   "metadata": {},
   "source": [
    "Next, we repeat the training procedure above by calling the *.fit* method again:"
   ]
  },
  {
   "cell_type": "code",
   "execution_count": null,
   "id": "ba773cac-ef43-411b-86eb-9c70b93f26fe",
   "metadata": {},
   "outputs": [],
   "source": [
    "ckpt_dir  = \"a0-A4-E-frozen\" \n",
    "\n",
    "model.fit(train_loader=train_loader, \n",
    "          valid_loader=valid_loader, \n",
    "          task_code=\"EA40\", \n",
    "          n_epoch=n_epoch,\n",
    "          learning_rate=learning_rate,\n",
    "          ckpt_dir=ckpt_dir,\n",
    "          device=device)"
   ]
  },
  {
   "cell_type": "markdown",
   "id": "ca409150-ecb9-4162-9dd7-981010cb4d12",
   "metadata": {},
   "source": [
    "And finally, we evaluated the trained model:"
   ]
  },
  {
   "cell_type": "code",
   "execution_count": 13,
   "id": "19251e21-3354-468e-8ac6-f15c2ac491c8",
   "metadata": {},
   "outputs": [
    {
     "name": "stdout",
     "output_type": "stream",
     "text": [
      "\u001b[35mTest steps: \u001b[36m66 \u001b[32m3.56s \u001b[35mtest_loss:\u001b[94m 0.131811\u001b[35m test_acc:\u001b[94m 96.155781\u001b[35m test_fscore_macro:\u001b[94m 0.831458\u001b[35m test_jaccard_index:\u001b[94m 0.739468\u001b[0m\n"
     ]
    },
    {
     "data": {
      "text/plain": [
       "0.7394677400588989"
      ]
     },
     "execution_count": 13,
     "metadata": {},
     "output_type": "execute_result"
    }
   ],
   "source": [
    "evaluate_model(model, test_loader)"
   ]
  },
  {
   "cell_type": "markdown",
   "id": "c0d102f1-7212-4775-a261-1cf11135e167",
   "metadata": {},
   "source": [
    "As we can see, by limiting the representational capacity of the model, the achieved performance is inferior to the fully finetuned model."
   ]
  }
 ],
 "metadata": {
  "environment": {
   "kernel": "python3",
   "name": "pytorch-gpu.1-11.m91",
   "type": "gcloud",
   "uri": "gcr.io/deeplearning-platform-release/pytorch-gpu.1-11:m91"
  },
  "kernelspec": {
   "display_name": "Python 3",
   "language": "python",
   "name": "python3"
  },
  "language_info": {
   "codemirror_mode": {
    "name": "ipython",
    "version": 3
   },
   "file_extension": ".py",
   "mimetype": "text/x-python",
   "name": "python",
   "nbconvert_exporter": "python",
   "pygments_lexer": "ipython3",
   "version": "3.7.12"
  }
 },
 "nbformat": 4,
 "nbformat_minor": 5
}
